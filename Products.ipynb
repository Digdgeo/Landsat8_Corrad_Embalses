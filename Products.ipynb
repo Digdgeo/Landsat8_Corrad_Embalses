{
 "cells": [
  {
   "cell_type": "code",
   "execution_count": 4,
   "metadata": {
    "collapsed": false
   },
   "outputs": [],
   "source": [
    "######## PROTOCOLO AUTOMATICO PARA LA GENERACION DE INDICES APLICADOS #######\n",
    "#######        A AGUAS CONTINENTALES CON LANDSAT 8 Y SENTINEL 2        ######\n",
    "######                                                                  #####\n",
    "####                        Autor: Diego Garcia Diaz                     ####\n",
    "###                      email: digd.geografo@gmail.com                   ###\n",
    "##            GitHub: https://github.com/Digdgeo/Landsat8_Corrad_Embalses  ##\n",
    "#                        Sevilla 01/01/2016-28/02/2016                      #\n",
    "\n",
    "# coding: utf-8\n",
    "\n",
    "import os, shutil, re, time, subprocess, pandas, rasterio, sys, urllib\n",
    "import numpy as np\n",
    "import matplotlib.pyplot as plt\n",
    "from osgeo import gdal, gdalconst\n",
    "\n",
    "class Product(object):\n",
    "    \n",
    "    def __init__(self, ruta_rad):\n",
    "        \n",
    "        self.ruta_escena = ruta_rad\n",
    "        self.rad = os.path.split(self.ruta_escena)[0]\n",
    "        self.raiz = os.path.split(self.rad)[0]\n",
    "        self.productos = os.path.join(self.raiz, 'productos')\n",
    "        if 'l8oli' in self.ruta_escena:\n",
    "            self.sat = 'L8'\n",
    "        else:\n",
    "            self.sat =  'S2A'\n",
    "        if self.sat == 'L8':\n",
    "            for i in os.listdir(self.ruta_escena):\n",
    "                if re.search('img$', i):\n",
    "                    \n",
    "                    banda = i[-6:-4]\n",
    "                    \n",
    "                    if banda == 'b1':\n",
    "                        self.b1 = os.path.join(self.ruta_escena, i)\n",
    "                    elif banda == 'b2':\n",
    "                        self.b2 = os.path.join(self.ruta_escena, i)\n",
    "                    elif banda == 'b3':\n",
    "                        self.b3 = os.path.join(self.ruta_escena, i)\n",
    "                    elif banda == 'b4':\n",
    "                        self.b4 = os.path.join(self.ruta_escena, i)\n",
    "                    elif banda == 'b5':\n",
    "                        self.b5 = os.path.join(self.ruta_escena, i)\n",
    "                    elif banda == 'b6':\n",
    "                        self.b6 = os.path.join(self.ruta_escena, i)\n",
    "                    elif banda == 'b7':\n",
    "                        self.b7 = os.path.join(self.ruta_escena, i)\n",
    "                    elif banda == 'b9':\n",
    "                        self.b9 = os.path.join(self.ruta_escena, i)\n",
    "                    \n",
    "    def ndvi(self):\n",
    "        \n",
    "        outfile = os.path.join(self.productos, 'ndvi.img')\n",
    "        print outfile\n",
    "        \n",
    "        if self.sat == 'L8':\n",
    "            \n",
    "            with rasterio.open(self.b5) as nir:\n",
    "                NIR = nir.read()\n",
    "                print NIR, NIR.min(), NIR.max()\n",
    "                \n",
    "            with rasterio.open(self.b4) as red:\n",
    "                RED = red.read()\n",
    "                \n",
    "            ndvi = NIR-RED / NIR+RED\n",
    "            \n",
    "            profile = nir.meta\n",
    "            profile.update(dtype=rasterio.float32)\n",
    "\n",
    "            with rasterio.open(outfile, 'w', **profile) as dst:\n",
    "                dst.write(ndvi.astype(rasterio.float32)) \n",
    "\n",
    "            \n",
    "        "
   ]
  },
  {
   "cell_type": "code",
   "execution_count": 5,
   "metadata": {
    "collapsed": false
   },
   "outputs": [],
   "source": [
    "a = Product(r'C:\\embalses\\rad\\20140422l8oli202_34')"
   ]
  }
 ],
 "metadata": {
  "kernelspec": {
   "display_name": "Python 2",
   "language": "python",
   "name": "python2"
  },
  "language_info": {
   "codemirror_mode": {
    "name": "ipython",
    "version": 2
   },
   "file_extension": ".py",
   "mimetype": "text/x-python",
   "name": "python",
   "nbconvert_exporter": "python",
   "pygments_lexer": "ipython2",
   "version": "2.7.11"
  }
 },
 "nbformat": 4,
 "nbformat_minor": 0
}
