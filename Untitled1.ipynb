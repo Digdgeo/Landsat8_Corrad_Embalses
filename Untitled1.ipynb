{
 "cells": [
  {
   "cell_type": "code",
   "execution_count": 9,
   "metadata": {
    "collapsed": false
   },
   "outputs": [],
   "source": [
    "import os, time, re\n",
    "\n",
    "def rename(ruta):\n",
    "\n",
    "    '''Este metodo hace el rename de las escenas en ori, desde su nomenclatura en formato USGS al formato usado\n",
    "    en el LAST'''\n",
    "\n",
    "    sats = {'LC8': 'l8oli', 'LE7': 'l7etm', 'LT5': 'l5tm'}\n",
    "    fecha=time.strftime(\"%d-%m-%Y\")\n",
    "    \n",
    "    \n",
    "    for i in os.listdir(ruta):\n",
    "    \n",
    "        if re.search(\"^L\\S[0-9]\", i) and os.path.isdir(os.path.join(ruta, i)):\n",
    "            \n",
    "            escena = os.path.join(ruta, i)\n",
    "            sat = i[:3]\n",
    "            path =  i[3:6]\n",
    "            row = i[7:9]\n",
    "            fecha = time.strptime(i[9:13] + \" \" + i[13:16], '%Y %j')\n",
    "            year = str(fecha.tm_year)\n",
    "            month = str(fecha.tm_mon)\n",
    "            if len(month) == 1:\n",
    "                month = '0' + month\n",
    "            day = str(fecha.tm_mday)\n",
    "            if len(day) == 1:\n",
    "                day = '0' + day\n",
    "\n",
    "            outname = os.path.join(ruta, year +  month  + day + sats[sat] + path + \"_\" + row)\n",
    "            os.rename(escena, outname)\n",
    "            \n",
    "            \n",
    "if __name__ == \"__main__\":\n",
    "    rename(r'C:\\Protocolo\\ori')"
   ]
  },
  {
   "cell_type": "code",
   "execution_count": 11,
   "metadata": {
    "collapsed": false
   },
   "outputs": [],
   "source": [
    "s = '20151119l8oli202_34'"
   ]
  },
  {
   "cell_type": "code",
   "execution_count": 14,
   "metadata": {
    "collapsed": false
   },
   "outputs": [
    {
     "data": {
      "text/plain": [
       "('202', '34')"
      ]
     },
     "execution_count": 14,
     "metadata": {},
     "output_type": "execute_result"
    }
   ],
   "source": [
    "s[-6:-3], s[-2:]"
   ]
  },
  {
   "cell_type": "code",
   "execution_count": null,
   "metadata": {
    "collapsed": true
   },
   "outputs": [],
   "source": []
  }
 ],
 "metadata": {
  "kernelspec": {
   "display_name": "Python 2",
   "language": "python",
   "name": "python2"
  },
  "language_info": {
   "codemirror_mode": {
    "name": "ipython",
    "version": 2
   },
   "file_extension": ".py",
   "mimetype": "text/x-python",
   "name": "python",
   "nbconvert_exporter": "python",
   "pygments_lexer": "ipython2",
   "version": "2.7.11"
  }
 },
 "nbformat": 4,
 "nbformat_minor": 0
}
