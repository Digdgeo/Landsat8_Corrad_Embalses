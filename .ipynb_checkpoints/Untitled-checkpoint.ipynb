{
 "cells": [
  {
   "cell_type": "code",
   "execution_count": 1,
   "metadata": {
    "collapsed": false
   },
   "outputs": [],
   "source": [
    "from corrad_l8 import Landsat"
   ]
  },
  {
   "cell_type": "code",
   "execution_count": 2,
   "metadata": {
    "collapsed": false
   },
   "outputs": [],
   "source": [
    "Escena = Landsat(r'C:\\embalses\\ori\\20140812l8oli202_34')"
   ]
  },
  {
   "cell_type": "code",
   "execution_count": 3,
   "metadata": {
    "collapsed": false
   },
   "outputs": [
    {
     "name": "stdout",
     "output_type": "stream",
     "text": [
      "r_LC8_202034_20140812_B1-CA_00.doc\n",
      "B1\n",
      "C:\\embalses\\rad\\20140812l8oli202_34\\r_LC8_202034_20140812_B1-CA_00.doc\n",
      "C:\\embalses\\rad\\20140812l8oli202_34\\20140812l8oli202_34r_b1.doc\n",
      "r_LC8_202034_20140812_B1-CA_00.img\n",
      "B1\n",
      "C:\\embalses\\rad\\20140812l8oli202_34\\r_LC8_202034_20140812_B1-CA_00.img\n",
      "C:\\embalses\\rad\\20140812l8oli202_34\\20140812l8oli202_34r_b1.img\n",
      "r_LC8_202034_20140812_B2-B_00.doc\n",
      "B2\n",
      "C:\\embalses\\rad\\20140812l8oli202_34\\r_LC8_202034_20140812_B2-B_00.doc\n",
      "C:\\embalses\\rad\\20140812l8oli202_34\\20140812l8oli202_34r_b2.doc\n",
      "r_LC8_202034_20140812_B2-B_00.img\n",
      "B2\n",
      "C:\\embalses\\rad\\20140812l8oli202_34\\r_LC8_202034_20140812_B2-B_00.img\n",
      "C:\\embalses\\rad\\20140812l8oli202_34\\20140812l8oli202_34r_b2.img\n",
      "r_LC8_202034_20140812_B3-G_00.doc\n",
      "B3\n",
      "C:\\embalses\\rad\\20140812l8oli202_34\\r_LC8_202034_20140812_B3-G_00.doc\n",
      "C:\\embalses\\rad\\20140812l8oli202_34\\20140812l8oli202_34r_b3.doc\n",
      "r_LC8_202034_20140812_B3-G_00.img\n",
      "B3\n",
      "C:\\embalses\\rad\\20140812l8oli202_34\\r_LC8_202034_20140812_B3-G_00.img\n",
      "C:\\embalses\\rad\\20140812l8oli202_34\\20140812l8oli202_34r_b3.img\n",
      "r_LC8_202034_20140812_B4-R_00.doc\n",
      "B4\n",
      "C:\\embalses\\rad\\20140812l8oli202_34\\r_LC8_202034_20140812_B4-R_00.doc\n",
      "C:\\embalses\\rad\\20140812l8oli202_34\\20140812l8oli202_34r_b4.doc\n",
      "r_LC8_202034_20140812_B4-R_00.img\n",
      "B4\n",
      "C:\\embalses\\rad\\20140812l8oli202_34\\r_LC8_202034_20140812_B4-R_00.img\n",
      "C:\\embalses\\rad\\20140812l8oli202_34\\20140812l8oli202_34r_b4.img\n",
      "r_LC8_202034_20140812_B5-NIR_00.doc\n",
      "B5\n",
      "C:\\embalses\\rad\\20140812l8oli202_34\\r_LC8_202034_20140812_B5-NIR_00.doc\n",
      "C:\\embalses\\rad\\20140812l8oli202_34\\20140812l8oli202_34r_b5.doc\n",
      "r_LC8_202034_20140812_B5-NIR_00.img\n",
      "B5\n",
      "C:\\embalses\\rad\\20140812l8oli202_34\\r_LC8_202034_20140812_B5-NIR_00.img\n",
      "C:\\embalses\\rad\\20140812l8oli202_34\\20140812l8oli202_34r_b5.img\n",
      "r_LC8_202034_20140812_B6-SWIR1_00.doc\n",
      "B6\n",
      "C:\\embalses\\rad\\20140812l8oli202_34\\r_LC8_202034_20140812_B6-SWIR1_00.doc\n",
      "C:\\embalses\\rad\\20140812l8oli202_34\\20140812l8oli202_34r_b6.doc\n",
      "r_LC8_202034_20140812_B6-SWIR1_00.img\n",
      "B6\n",
      "C:\\embalses\\rad\\20140812l8oli202_34\\r_LC8_202034_20140812_B6-SWIR1_00.img\n",
      "C:\\embalses\\rad\\20140812l8oli202_34\\20140812l8oli202_34r_b6.img\n",
      "r_LC8_202034_20140812_B7-SWIR2_00.doc\n",
      "B7\n",
      "C:\\embalses\\rad\\20140812l8oli202_34\\r_LC8_202034_20140812_B7-SWIR2_00.doc\n",
      "C:\\embalses\\rad\\20140812l8oli202_34\\20140812l8oli202_34r_b7.doc\n",
      "r_LC8_202034_20140812_B7-SWIR2_00.img\n",
      "B7\n",
      "C:\\embalses\\rad\\20140812l8oli202_34\\r_LC8_202034_20140812_B7-SWIR2_00.img\n",
      "C:\\embalses\\rad\\20140812l8oli202_34\\20140812l8oli202_34r_b7.img\n",
      "r_LC8_202034_20140812_B9-CI_00.doc\n",
      "B9\n",
      "C:\\embalses\\rad\\20140812l8oli202_34\\r_LC8_202034_20140812_B9-CI_00.doc\n",
      "C:\\embalses\\rad\\20140812l8oli202_34\\20140812l8oli202_34r_b9.doc\n",
      "r_LC8_202034_20140812_B9-CI_00.img\n",
      "B9\n",
      "C:\\embalses\\rad\\20140812l8oli202_34\\r_LC8_202034_20140812_B9-CI_00.img\n",
      "C:\\embalses\\rad\\20140812l8oli202_34\\20140812l8oli202_34r_b9.img\n"
     ]
    }
   ],
   "source": [
    "Escena.rename_rad()"
   ]
  },
  {
   "cell_type": "code",
   "execution_count": null,
   "metadata": {
    "collapsed": false
   },
   "outputs": [],
   "source": [
    "s = 'r_LC8_202034_20140812_B2-B_00.doc'\n",
    "s[-11:-9]"
   ]
  },
  {
   "cell_type": "code",
   "execution_count": null,
   "metadata": {
    "collapsed": true
   },
   "outputs": [],
   "source": []
  }
 ],
 "metadata": {
  "kernelspec": {
   "display_name": "Python 2",
   "language": "python",
   "name": "python2"
  },
  "language_info": {
   "codemirror_mode": {
    "name": "ipython",
    "version": 2
   },
   "file_extension": ".py",
   "mimetype": "text/x-python",
   "name": "python",
   "nbconvert_exporter": "python",
   "pygments_lexer": "ipython2",
   "version": "2.7.11"
  }
 },
 "nbformat": 4,
 "nbformat_minor": 0
}
