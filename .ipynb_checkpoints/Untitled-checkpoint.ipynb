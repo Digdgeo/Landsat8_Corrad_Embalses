{
 "cells": [
  {
   "cell_type": "code",
   "execution_count": null,
   "metadata": {
    "collapsed": false
   },
   "outputs": [],
   "source": [
    "!gdalwarp -t_srs EPSG:32617 -r cubic -srcnodata -9999 -dstnodata 0 --config GDAL_CACHEMAX 8000  E:\\cuba\\stack18_3.tif E:\\cuba\\stack_18_rep17.tif"
   ]
  },
  {
   "cell_type": "code",
   "execution_count": null,
   "metadata": {
    "collapsed": false
   },
   "outputs": [],
   "source": [
    "!gdalwarp --config GDAL_CACHEMAX 8000 -srcnodata 0 -dstnodata -0  E:\\cuba\\cdr\\stack_comp_1645.tif E:\\cuba\\stack17_20.tif E:\\cuba\\mosaico_completo.tif"
   ]
  },
  {
   "cell_type": "code",
   "execution_count": null,
   "metadata": {
    "collapsed": false
   },
   "outputs": [],
   "source": [
    "!gdalwarp E:\\cuba\\stack_1745_1744_rep17.tif E:\\cuba\\stack_123.tif E:\\cuba\\stack_123_2.tif  "
   ]
  },
  {
   "cell_type": "code",
   "execution_count": 2,
   "metadata": {
    "collapsed": false
   },
   "outputs": [
    {
     "name": "stdout",
     "output_type": "stream",
     "text": [
      "Creating output file that is 38551P x 13055L.\n",
      "Processing input file C:\\Cuba\\data\\cubadtm_aster.tif.\n",
      "Using internal nodata values (e.g. -32767) for image C:\\Cuba\\data\\cubadtm_aster.tif.\n",
      "Copying nodata values from source C:\\Cuba\\data\\cubadtm_aster.tif to destination E:\\cuba\\dtm_rec.tif.\n",
      "0...10...20...30...40...50...60...70...80...90...100 - done.\n"
     ]
    }
   ],
   "source": [
    "!gdalwarp -cutline E:\\cuba\\Marco_Cuba.shp -crop_to_cutline --config GDAL_CACHEMAX 8000 -wm 8000 --config GDAL_NUM_THREADS ALL_CPUS C:\\Cuba\\data\\cubadtm_aster.tif E:\\cuba\\dtm_rec.tif"
   ]
  },
  {
   "cell_type": "markdown",
   "metadata": {},
   "source": [
    "# Manejo de Multibandas en Rasterio!!!"
   ]
  },
  {
   "cell_type": "code",
   "execution_count": 19,
   "metadata": {
    "collapsed": false
   },
   "outputs": [],
   "source": [
    "import rasterio\n",
    "import numpy as np\n",
    "\n",
    "outfile = r'E:\\cuba\\mosaico_int.tif'\n",
    "mdt = r'E:\\cuba\\dtm_bin.tif'\n",
    "\n",
    "with rasterio.open(mdt) as dtm:\n",
    "    \n",
    "    DTM = dtm.read()\n",
    "    \n",
    "\n",
    "with rasterio.open(r'E:\\cuba\\mosaico_final_rec.tif') as rs:\n",
    "    \n",
    "    RST = rs.read([1, 2, 3, 4, 5, 6, 7]) \n",
    "    \n",
    "    for i in range(len(RST)):\n",
    "        RST[i] = RST[i] * DTM\n",
    "\n",
    "#print RST[0] * DTM\n",
    "profile = rs.meta\n",
    "profile.update(dtype=rasterio.int16)\n",
    "\n",
    "with rasterio.open(outfile, 'w', **profile) as dst:\n",
    "    dst.write(RST.astype(rasterio.int16))"
   ]
  },
  {
   "cell_type": "code",
   "execution_count": 11,
   "metadata": {
    "collapsed": false
   },
   "outputs": [],
   "source": [
    "import rasterio\n",
    "import numpy as np\n",
    "\n",
    "outfile = 'C:\\Users\\Diego\\Desktop\\delete\\class_marabu.img'\n",
    "\n",
    "rs = r'C:\\Users\\Diego\\Desktop\\delete\\class_filter.img'\n",
    "\n",
    "with rasterio.open(rs) as src:\n",
    "    \n",
    "    RST = src.read()\n",
    "    RST[RST != 1] = 0\n",
    "    #RST[RST == 0] = np.nan\n",
    "    \n",
    "profile = src.meta\n",
    "profile.update(dtype=rasterio.int16)\n",
    "\n",
    "with rasterio.open(outfile, 'w', **profile) as dst:\n",
    "    dst.write(RST.astype(rasterio.int16)) "
   ]
  },
  {
   "cell_type": "code",
   "execution_count": 12,
   "metadata": {
    "collapsed": false
   },
   "outputs": [
    {
     "name": "stdout",
     "output_type": "stream",
     "text": [
      "Input file size is 38551, 13055\n",
      "0...10...20...30...40...50...60...70...80...90...100 - done.\n"
     ]
    }
   ],
   "source": [
    "!gdal_translate -of GTiff C:\\Users\\Diego\\Desktop\\delete\\class_marabu.img C:\\Users\\Diego\\Desktop\\delete\\class_marabu.tif"
   ]
  },
  {
   "cell_type": "code",
   "execution_count": null,
   "metadata": {
    "collapsed": false
   },
   "outputs": [],
   "source": [
    "RST[1][mask] = 0"
   ]
  },
  {
   "cell_type": "code",
   "execution_count": null,
   "metadata": {
    "collapsed": false
   },
   "outputs": [],
   "source": [
    "RST[1]"
   ]
  },
  {
   "cell_type": "code",
   "execution_count": null,
   "metadata": {
    "collapsed": true
   },
   "outputs": [],
   "source": []
  }
 ],
 "metadata": {
  "kernelspec": {
   "display_name": "Python 2",
   "language": "python",
   "name": "python2"
  },
  "language_info": {
   "codemirror_mode": {
    "name": "ipython",
    "version": 2
   },
   "file_extension": ".py",
   "mimetype": "text/x-python",
   "name": "python",
   "nbconvert_exporter": "python",
   "pygments_lexer": "ipython2",
   "version": "2.7.11"
  }
 },
 "nbformat": 4,
 "nbformat_minor": 0
}
