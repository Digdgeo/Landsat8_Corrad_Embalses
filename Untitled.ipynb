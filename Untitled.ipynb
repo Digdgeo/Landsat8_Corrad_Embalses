{
 "cells": [
  {
   "cell_type": "code",
   "execution_count": 1,
   "metadata": {
    "collapsed": false
   },
   "outputs": [],
   "source": [
    "from corrad_l8 import Landsat as L"
   ]
  },
  {
   "cell_type": "code",
   "execution_count": 2,
   "metadata": {
    "collapsed": false
   },
   "outputs": [
    {
     "name": "stdout",
     "output_type": "stream",
     "text": [
      "http://earthexplorer.usgs.gov/browse/landsat_8/2016/203/034/LC82030342016061LGN00.jpg\n"
     ]
    }
   ],
   "source": [
    "e = L(r'C:\\Embalses\\ori\\20160301l8oli203_34')"
   ]
  },
  {
   "cell_type": "code",
   "execution_count": 3,
   "metadata": {
    "collapsed": false
   },
   "outputs": [
    {
     "name": "stdout",
     "output_type": "stream",
     "text": [
      "comenzando Fmask\n",
      "comenzando Fmask\n",
      "comenzando Fmask NoTIRS\n",
      "Mascara de nubes (Fmask NoTIRS) generada en -75.2369999886 segundos\n",
      "B1\n",
      "gdal_translate -of ENVI --config GDAL_CACHEMAX 8000 --config GDAL_NUM_THREADS ALL_CPUS C:\\Embalses\\ori\\20160301l8oli203_34\\LC82030342016061LGN00_B1.TIF C:\\Embalses\\ori\\20160301l8oli203_34\\20160301l8oli203_34_r_b1.img\n",
      "B10\n",
      "gdal_translate -of ENVI --config GDAL_CACHEMAX 8000 --config GDAL_NUM_THREADS ALL_CPUS C:\\Embalses\\ori\\20160301l8oli203_34\\LC82030342016061LGN00_B10.TIF C:\\Embalses\\ori\\20160301l8oli203_34\\20160301l8oli203_34_r_b10.img\n",
      "B11\n",
      "gdal_translate -of ENVI --config GDAL_CACHEMAX 8000 --config GDAL_NUM_THREADS ALL_CPUS C:\\Embalses\\ori\\20160301l8oli203_34\\LC82030342016061LGN00_B11.TIF C:\\Embalses\\ori\\20160301l8oli203_34\\20160301l8oli203_34_r_b11.img\n",
      "B2\n",
      "gdal_translate -of ENVI --config GDAL_CACHEMAX 8000 --config GDAL_NUM_THREADS ALL_CPUS C:\\Embalses\\ori\\20160301l8oli203_34\\LC82030342016061LGN00_B2.TIF C:\\Embalses\\ori\\20160301l8oli203_34\\20160301l8oli203_34_r_b2.img\n",
      "B3\n",
      "gdal_translate -of ENVI --config GDAL_CACHEMAX 8000 --config GDAL_NUM_THREADS ALL_CPUS C:\\Embalses\\ori\\20160301l8oli203_34\\LC82030342016061LGN00_B3.TIF C:\\Embalses\\ori\\20160301l8oli203_34\\20160301l8oli203_34_r_b3.img\n",
      "B4\n",
      "gdal_translate -of ENVI --config GDAL_CACHEMAX 8000 --config GDAL_NUM_THREADS ALL_CPUS C:\\Embalses\\ori\\20160301l8oli203_34\\LC82030342016061LGN00_B4.TIF C:\\Embalses\\ori\\20160301l8oli203_34\\20160301l8oli203_34_r_b4.img\n",
      "B5\n",
      "gdal_translate -of ENVI --config GDAL_CACHEMAX 8000 --config GDAL_NUM_THREADS ALL_CPUS C:\\Embalses\\ori\\20160301l8oli203_34\\LC82030342016061LGN00_B5.TIF C:\\Embalses\\ori\\20160301l8oli203_34\\20160301l8oli203_34_r_b5.img\n",
      "B6\n",
      "gdal_translate -of ENVI --config GDAL_CACHEMAX 8000 --config GDAL_NUM_THREADS ALL_CPUS C:\\Embalses\\ori\\20160301l8oli203_34\\LC82030342016061LGN00_B6.TIF C:\\Embalses\\ori\\20160301l8oli203_34\\20160301l8oli203_34_r_b6.img\n",
      "B7\n",
      "gdal_translate -of ENVI --config GDAL_CACHEMAX 8000 --config GDAL_NUM_THREADS ALL_CPUS C:\\Embalses\\ori\\20160301l8oli203_34\\LC82030342016061LGN00_B7.TIF C:\\Embalses\\ori\\20160301l8oli203_34\\20160301l8oli203_34_r_b7.img\n",
      "B8\n",
      "gdal_translate -of ENVI --config GDAL_CACHEMAX 8000 --config GDAL_NUM_THREADS ALL_CPUS C:\\Embalses\\ori\\20160301l8oli203_34\\LC82030342016061LGN00_B8.TIF C:\\Embalses\\ori\\20160301l8oli203_34\\20160301l8oli203_34_r_b8.img\n",
      "B9\n",
      "gdal_translate -of ENVI --config GDAL_CACHEMAX 8000 --config GDAL_NUM_THREADS ALL_CPUS C:\\Embalses\\ori\\20160301l8oli203_34\\LC82030342016061LGN00_B9.TIF C:\\Embalses\\ori\\20160301l8oli203_34\\20160301l8oli203_34_r_b9.img\n",
      "BQA\n",
      "gdal_translate -of ENVI --config GDAL_CACHEMAX 8000 --config GDAL_NUM_THREADS ALL_CPUS C:\\Embalses\\ori\\20160301l8oli203_34\\LC82030342016061LGN00_BQA.TIF C:\\Embalses\\ori\\20160301l8oli203_34\\20160301l8oli203_34_r_bqa.img\n",
      "C:\\Embalses\\ori\\20160301l8oli203_34\\20160301l8oli203_34_r_b1.img\n",
      "C:\\Embalses\\ori\\20160301l8oli203_34\\20160301l8oli203_34_r_b1.img.aux.xml\n",
      "C:\\Embalses\\ori\\20160301l8oli203_34\\20160301l8oli203_34_r_b10.img\n",
      "C:\\Embalses\\ori\\20160301l8oli203_34\\20160301l8oli203_34_r_b10.img.aux.xml\n",
      "C:\\Embalses\\ori\\20160301l8oli203_34\\20160301l8oli203_34_r_b11.img\n",
      "C:\\Embalses\\ori\\20160301l8oli203_34\\20160301l8oli203_34_r_b11.img.aux.xml\n",
      "C:\\Embalses\\ori\\20160301l8oli203_34\\20160301l8oli203_34_r_b2.img\n",
      "C:\\Embalses\\ori\\20160301l8oli203_34\\20160301l8oli203_34_r_b2.img.aux.xml\n",
      "C:\\Embalses\\ori\\20160301l8oli203_34\\20160301l8oli203_34_r_b3.img\n",
      "C:\\Embalses\\ori\\20160301l8oli203_34\\20160301l8oli203_34_r_b3.img.aux.xml\n",
      "C:\\Embalses\\ori\\20160301l8oli203_34\\20160301l8oli203_34_r_b4.img\n",
      "C:\\Embalses\\ori\\20160301l8oli203_34\\20160301l8oli203_34_r_b4.img.aux.xml\n",
      "C:\\Embalses\\ori\\20160301l8oli203_34\\20160301l8oli203_34_r_b5.img\n",
      "C:\\Embalses\\ori\\20160301l8oli203_34\\20160301l8oli203_34_r_b5.img.aux.xml\n",
      "C:\\Embalses\\ori\\20160301l8oli203_34\\20160301l8oli203_34_r_b6.img\n",
      "C:\\Embalses\\ori\\20160301l8oli203_34\\20160301l8oli203_34_r_b6.img.aux.xml\n",
      "C:\\Embalses\\ori\\20160301l8oli203_34\\20160301l8oli203_34_r_b7.img\n",
      "C:\\Embalses\\ori\\20160301l8oli203_34\\20160301l8oli203_34_r_b7.img.aux.xml\n",
      "C:\\Embalses\\ori\\20160301l8oli203_34\\20160301l8oli203_34_r_b8.img\n",
      "C:\\Embalses\\ori\\20160301l8oli203_34\\20160301l8oli203_34_r_b8.img.aux.xml\n",
      "C:\\Embalses\\ori\\20160301l8oli203_34\\20160301l8oli203_34_r_b9.img\n",
      "C:\\Embalses\\ori\\20160301l8oli203_34\\20160301l8oli203_34_r_b9.img.aux.xml\n",
      "C:\\Embalses\\ori\\20160301l8oli203_34\\20160301l8oli203_34_r_bqa.img\n",
      "C:\\Embalses\\ori\\20160301l8oli203_34\\20160301l8oli203_34_r_bqa.img.aux.xml\n",
      "['C:\\\\MiraMon\\\\TIFIMG', '9', 'C:\\\\Embalses\\\\ori\\\\20160301l8oli203_34\\\\LC82030342016061LGN00_B1.TIF', 'C:\\\\Embalses\\\\ori\\\\20160301l8oli203_34\\\\miramon_import', '1', '0', '/MD=C:\\\\Embalses\\\\ori\\\\20160301l8oli203_34\\\\LC82030342016061LGN00_MTL.txt', '/DT=c:\\\\MiraMon']\n",
      "Escena importada con exito en 64.9249999523 segundos\n",
      "Creating new index file...\n",
      "\n",
      "marco generado\n",
      "Creating output file that is 7651P x 7801L.\n",
      "Processing input file C:\\Embalses\\data\\dtm_full.img.\n",
      "Using internal nodata values (e.g. -9999) for image C:\\Embalses\\data\\dtm_full.img.\n",
      "0...10...20...30...40...50...60...70...80...90...100 - done.\n",
      "\n",
      "dtm_escena generado\n",
      "0...10...20...30...40...50...60...70...80...90...100 - done.\n",
      "\n",
      "Hillshade generado\n",
      "min, max:  0 255\n",
      "C:\\Embalses\\data\\temp\\hillshade.img\n",
      "usando Fmask\n",
      "lista:  [8082, 8108, 8112, 8114, 8117, 8125, 8128, 8128, 8129, 8129]\n",
      "data3:  8082 8223\n",
      "usando Fmask\n",
      "lista:  [7269, 7303, 7307, 7316, 7316, 7316, 7317, 7318, 7320, 7321]\n",
      "data3:  7269 7428\n",
      "usando Fmask\n",
      "lista:  [6092, 6226, 6232, 6244, 6246, 6247, 6250, 6251, 6253, 6253]\n",
      "data3:  6092 6398\n",
      "usando Fmask\n",
      "lista:  [5550, 5558, 5597, 5645, 5647, 5657, 5661, 5670, 5673, 5676]\n",
      "data3:  5550 5752\n",
      "usando Fmask\n",
      "lista:  [4555, 4566, 4608, 4643, 4656, 4657, 4682, 4690, 4696, 4699]\n",
      "data3:  4555 5239\n",
      "usando Fmask\n",
      "lista:  [4546, 4551, 4626, 4629, 4632, 4634, 4646, 4648, 4655, 4661]\n",
      "data3:  4546 4987\n",
      "usando Fmask\n",
      "lista:  [4602, 4778, 4792, 4795, 4809, 4832, 4838, 4838, 4839, 4841]\n",
      "data3:  4602 5003\n",
      "usando Fmask\n",
      "lista:  [4963, 4963, 4963, 4963, 4964, 4966, 4966, 4967, 4968, 4969]\n",
      "data3:  4963 4984\n",
      "Histogramas generados\n",
      "modificados los metadatos del archivo kl.rad\n",
      "Proceso finalizado en 164.503000021 segundos\n",
      "Nodtm generado\n",
      "modificados los metadatos de  LC8_203034_20160301_BQA-WaterConfidence_00.img\n",
      "modificados los metadatos de  LC8_203034_20160301_BQA-WaterConfidence_00.img\n",
      "modificados los metadatos del bat\n",
      "['C:\\\\MiraMon\\\\CORRAD', '1', 'C:\\\\Embalses\\\\ori\\\\20160301l8oli203_34\\\\miramon_import\\\\LC8_203034_20160301_B1-CA_00.img', 'C:\\\\Embalses\\\\rad\\\\20160301l8oli203_34', 'C:\\\\Embalses\\\\data\\\\temp\\\\Nodtm.img', 'C:\\\\Embalses\\\\rad\\\\kl_l8.rad', '/MULTIBANDA /CONSERVAR_MDT /LIMIT_LAMBERT=73.000000 /REF_SUP_100 /REF_INF_0 /DT=c:\\\\MiraMon']\n",
      "Llamando a Miramon... Miramon!!!!!!\n",
      "Escena corregida con exito en 123.67599988 segundos\n",
      "r_LC8_203034_20160301_B1-CA_00.doc\n",
      "B1\n",
      "r_LC8_203034_20160301_B1-CA_00.img\n",
      "B1\n",
      "r_LC8_203034_20160301_B2-B_00.doc\n",
      "B2\n",
      "r_LC8_203034_20160301_B2-B_00.img\n",
      "B2\n",
      "r_LC8_203034_20160301_B3-G_00.doc\n",
      "B3\n",
      "r_LC8_203034_20160301_B3-G_00.img\n",
      "B3\n",
      "r_LC8_203034_20160301_B4-R_00.doc\n",
      "B4\n",
      "r_LC8_203034_20160301_B4-R_00.img\n",
      "B4\n",
      "r_LC8_203034_20160301_B5-NIR_00.doc\n",
      "B5\n",
      "r_LC8_203034_20160301_B5-NIR_00.img\n",
      "B5\n",
      "r_LC8_203034_20160301_B6-SWIR1_00.doc\n",
      "B6\n",
      "r_LC8_203034_20160301_B6-SWIR1_00.img\n",
      "B6\n",
      "r_LC8_203034_20160301_B7-SWIR2_00.doc\n",
      "B7\n",
      "r_LC8_203034_20160301_B7-SWIR2_00.img\n",
      "B7\n",
      "r_LC8_203034_20160301_B9-CI_00.doc\n",
      "B9\n",
      "r_LC8_203034_20160301_B9-CI_00.img\n",
      "B9\n",
      "C:\\Embalses\\ori\\20160301l8oli203_34\\20160301l8oli203_34_r_b1.hdr movido a rad\n",
      "C:\\Embalses\\ori\\20160301l8oli203_34\\20160301l8oli203_34_r_b10.hdr movido a rad\n",
      "C:\\Embalses\\ori\\20160301l8oli203_34\\20160301l8oli203_34_r_b11.hdr movido a rad\n",
      "C:\\Embalses\\ori\\20160301l8oli203_34\\20160301l8oli203_34_r_b2.hdr movido a rad\n",
      "C:\\Embalses\\ori\\20160301l8oli203_34\\20160301l8oli203_34_r_b3.hdr movido a rad\n",
      "C:\\Embalses\\ori\\20160301l8oli203_34\\20160301l8oli203_34_r_b4.hdr movido a rad\n",
      "C:\\Embalses\\ori\\20160301l8oli203_34\\20160301l8oli203_34_r_b5.hdr movido a rad\n",
      "C:\\Embalses\\ori\\20160301l8oli203_34\\20160301l8oli203_34_r_b6.hdr movido a rad\n",
      "C:\\Embalses\\ori\\20160301l8oli203_34\\20160301l8oli203_34_r_b7.hdr movido a rad\n",
      "C:\\Embalses\\ori\\20160301l8oli203_34\\20160301l8oli203_34_r_b8.hdr movido a rad\n",
      "C:\\Embalses\\ori\\20160301l8oli203_34\\20160301l8oli203_34_r_b9.hdr movido a rad\n",
      "C:\\Embalses\\ori\\20160301l8oli203_34\\20160301l8oli203_34_r_bqa.hdr movido a rad\n",
      "modificados los metadatos de  20160301l8oli203_34_r_b1.hdr\n",
      "modificados los metadatos de  20160301l8oli203_34_r_b10.hdr\n",
      "modificados los metadatos de  20160301l8oli203_34_r_b11.hdr\n",
      "modificados los metadatos de  20160301l8oli203_34_r_b2.hdr\n",
      "modificados los metadatos de  20160301l8oli203_34_r_b3.hdr\n",
      "modificados los metadatos de  20160301l8oli203_34_r_b4.hdr\n",
      "modificados los metadatos de  20160301l8oli203_34_r_b5.hdr\n",
      "modificados los metadatos de  20160301l8oli203_34_r_b6.hdr\n",
      "modificados los metadatos de  20160301l8oli203_34_r_b7.hdr\n",
      "modificados los metadatos de  20160301l8oli203_34_r_b8.hdr\n",
      "modificados los metadatos de  20160301l8oli203_34_r_b9.hdr\n",
      "modificados los metadatos de  20160301l8oli203_34_r_bqa.hdr\n"
     ]
    },
    {
     "name": "stderr",
     "output_type": "stream",
     "text": [
      "C:\\Anaconda\\lib\\site-packages\\rasterio\\__init__.py:103: FutureWarning: GDAL-style transforms are deprecated and will not be supported in Rasterio 1.0.\n",
      "  transform = guard_transform(transform)\n"
     ]
    },
    {
     "name": "stdout",
     "output_type": "stream",
     "text": [
      "b1 1-CA\n",
      "b2 2-B\n",
      "b3 3-G\n",
      "b4 4-R\n",
      "b5 5-NIR\n",
      "b6 6-SWIR1\n",
      "b7 7-SWIR2\n",
      "b9 9-CI\n"
     ]
    }
   ],
   "source": [
    "e.run()"
   ]
  },
  {
   "cell_type": "code",
   "execution_count": null,
   "metadata": {
    "collapsed": true
   },
   "outputs": [],
   "source": []
  }
 ],
 "metadata": {
  "kernelspec": {
   "display_name": "Python 2",
   "language": "python",
   "name": "python2"
  },
  "language_info": {
   "codemirror_mode": {
    "name": "ipython",
    "version": 2
   },
   "file_extension": ".py",
   "mimetype": "text/x-python",
   "name": "python",
   "nbconvert_exporter": "python",
   "pygments_lexer": "ipython2",
   "version": "2.7.11"
  }
 },
 "nbformat": 4,
 "nbformat_minor": 0
}
