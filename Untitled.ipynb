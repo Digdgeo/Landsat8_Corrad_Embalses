{
 "cells": [
  {
   "cell_type": "code",
   "execution_count": 1,
   "metadata": {
    "collapsed": false
   },
   "outputs": [],
   "source": [
    "#from productos import Product as P\n",
    "from corrad_l8 import Landsat "
   ]
  },
  {
   "cell_type": "code",
   "execution_count": 2,
   "metadata": {
    "collapsed": false
   },
   "outputs": [
    {
     "data": {
      "text/html": [
       "<img src=\"http://earthexplorer.usgs.gov/browse/landsat_8/2016/202/034/LC82020342016070LGN00.jpg\" width=\"500\"/>"
      ],
      "text/plain": [
       "<IPython.core.display.Image object>"
      ]
     },
     "metadata": {},
     "output_type": "display_data"
    },
    {
     "name": "stdout",
     "output_type": "stream",
     "text": [
      "Opened database successfully\n",
      "Table Escenas created successfully\n",
      "Table Kl created successfully\n",
      "Table Puntos-Escena created successfully\n",
      "Table Puntos created successfully\n",
      "Table Indices created successfully\n",
      "Table Puntos-Indices created successfully\n"
     ]
    }
   ],
   "source": [
    "escena = Landsat(r'C:\\Embalses\\ori\\20160310l8oli202_34')"
   ]
  },
  {
   "cell_type": "code",
   "execution_count": null,
   "metadata": {
    "collapsed": false
   },
   "outputs": [
    {
     "name": "stdout",
     "output_type": "stream",
     "text": [
      "comenzando Fmask\n",
      "comenzando Fmask\n",
      "comenzando Fmask NoTIRS\n"
     ]
    }
   ],
   "source": [
    "escena.run()"
   ]
  },
  {
   "cell_type": "code",
   "execution_count": null,
   "metadata": {
    "collapsed": false
   },
   "outputs": [],
   "source": [
    "import os\n",
    "from osgeo import gdal,ogr\n",
    "\n",
    "#src_rs = r'C:\\Embalses\\productos\\chla_T5.img' raster a extraer valores\n",
    "#src_shp = r'C:\\Users\\Diego\\Desktop\\delete\\puntosEmb.shp' shape de puntos para extraer los valores\n",
    "\n",
    "\n",
    "def get_point_values(rs):\n",
    "\n",
    "    src_shp = r'C:\\Embalses\\data\\Puntos.shp' #El shape deberia ser siempre el mismo. \n",
    "    src_ds=gdal.Open(os.path.join(r'C:\\Embalses\\rad\\20140713l8oli222_34', rs))\n",
    "    gt=src_ds.GetGeoTransform()\n",
    "    rb=src_ds.GetRasterBand(1)\n",
    "\n",
    "    ds=ogr.Open(src_shp)\n",
    "    lyr=ds.GetLayer()\n",
    "    for feat in lyr:\n",
    "        geom = feat.GetGeometryRef()\n",
    "        mx,my=geom.GetX(), geom.GetY()\n",
    "        print mx, my\n",
    "        px = int((mx - gt[0]) / gt[1]) \n",
    "        py = int((my - gt[3]) / gt[5]) \n",
    "\n",
    "        intval=rb.ReadAsArray(px,py,1,1)\n",
    "        print intval[0] "
   ]
  },
  {
   "cell_type": "code",
   "execution_count": null,
   "metadata": {
    "collapsed": false
   },
   "outputs": [],
   "source": [
    "get_point_values('20140713l8oli222_34_r_b1.img')"
   ]
  },
  {
   "cell_type": "code",
   "execution_count": null,
   "metadata": {
    "collapsed": true
   },
   "outputs": [],
   "source": []
  }
 ],
 "metadata": {
  "kernelspec": {
   "display_name": "Python 2",
   "language": "python",
   "name": "python2"
  },
  "language_info": {
   "codemirror_mode": {
    "name": "ipython",
    "version": 2
   },
   "file_extension": ".py",
   "mimetype": "text/x-python",
   "name": "python",
   "nbconvert_exporter": "python",
   "pygments_lexer": "ipython2",
   "version": "2.7.11"
  }
 },
 "nbformat": 4,
 "nbformat_minor": 0
}
