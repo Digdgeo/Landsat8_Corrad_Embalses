{
 "cells": [
  {
   "cell_type": "code",
   "execution_count": 1,
   "metadata": {
    "collapsed": false
   },
   "outputs": [],
   "source": [
    "from corrad_l8 import Landsat as L"
   ]
  },
  {
   "cell_type": "code",
   "execution_count": 2,
   "metadata": {
    "collapsed": false
   },
   "outputs": [
    {
     "name": "stdout",
     "output_type": "stream",
     "text": [
      "http://earthexplorer.usgs.gov/browse/landsat_8/2015/202/034/LC82020342015131LGN00.jpg\n"
     ]
    }
   ],
   "source": [
    "e = L(r'C:\\Embalses\\ori\\20150511l8oli202_34')"
   ]
  },
  {
   "cell_type": "code",
   "execution_count": 3,
   "metadata": {
    "collapsed": false
   },
   "outputs": [
    {
     "name": "stdout",
     "output_type": "stream",
     "text": [
      "comenzando Fmask\n",
      "comenzando Fmask\n",
      "Mascara de nubes (Fmask) generada en -148.799000025 segundos\n",
      "B1\n",
      "gdal_translate -of ENVI --config GDAL_CACHEMAX 8000 --config GDAL_NUM_THREADS ALL_CPUS C:\\Embalses\\ori\\20150511l8oli202_34\\LC82020342015131LGN00_B1.TIF C:\\Embalses\\ori\\20150511l8oli202_34\\20150511l8oli202_34_r_b1.img\n",
      "B10\n",
      "gdal_translate -of ENVI --config GDAL_CACHEMAX 8000 --config GDAL_NUM_THREADS ALL_CPUS C:\\Embalses\\ori\\20150511l8oli202_34\\LC82020342015131LGN00_B10.TIF C:\\Embalses\\ori\\20150511l8oli202_34\\20150511l8oli202_34_r_b10.img\n",
      "B11\n",
      "gdal_translate -of ENVI --config GDAL_CACHEMAX 8000 --config GDAL_NUM_THREADS ALL_CPUS C:\\Embalses\\ori\\20150511l8oli202_34\\LC82020342015131LGN00_B11.TIF C:\\Embalses\\ori\\20150511l8oli202_34\\20150511l8oli202_34_r_b11.img\n",
      "B2\n",
      "gdal_translate -of ENVI --config GDAL_CACHEMAX 8000 --config GDAL_NUM_THREADS ALL_CPUS C:\\Embalses\\ori\\20150511l8oli202_34\\LC82020342015131LGN00_B2.TIF C:\\Embalses\\ori\\20150511l8oli202_34\\20150511l8oli202_34_r_b2.img\n",
      "B3\n",
      "gdal_translate -of ENVI --config GDAL_CACHEMAX 8000 --config GDAL_NUM_THREADS ALL_CPUS C:\\Embalses\\ori\\20150511l8oli202_34\\LC82020342015131LGN00_B3.TIF C:\\Embalses\\ori\\20150511l8oli202_34\\20150511l8oli202_34_r_b3.img\n",
      "B4\n",
      "gdal_translate -of ENVI --config GDAL_CACHEMAX 8000 --config GDAL_NUM_THREADS ALL_CPUS C:\\Embalses\\ori\\20150511l8oli202_34\\LC82020342015131LGN00_B4.TIF C:\\Embalses\\ori\\20150511l8oli202_34\\20150511l8oli202_34_r_b4.img\n",
      "B5\n",
      "gdal_translate -of ENVI --config GDAL_CACHEMAX 8000 --config GDAL_NUM_THREADS ALL_CPUS C:\\Embalses\\ori\\20150511l8oli202_34\\LC82020342015131LGN00_B5.TIF C:\\Embalses\\ori\\20150511l8oli202_34\\20150511l8oli202_34_r_b5.img\n",
      "B6\n",
      "gdal_translate -of ENVI --config GDAL_CACHEMAX 8000 --config GDAL_NUM_THREADS ALL_CPUS C:\\Embalses\\ori\\20150511l8oli202_34\\LC82020342015131LGN00_B6.TIF C:\\Embalses\\ori\\20150511l8oli202_34\\20150511l8oli202_34_r_b6.img\n",
      "B7\n",
      "gdal_translate -of ENVI --config GDAL_CACHEMAX 8000 --config GDAL_NUM_THREADS ALL_CPUS C:\\Embalses\\ori\\20150511l8oli202_34\\LC82020342015131LGN00_B7.TIF C:\\Embalses\\ori\\20150511l8oli202_34\\20150511l8oli202_34_r_b7.img\n",
      "B8\n",
      "gdal_translate -of ENVI --config GDAL_CACHEMAX 8000 --config GDAL_NUM_THREADS ALL_CPUS C:\\Embalses\\ori\\20150511l8oli202_34\\LC82020342015131LGN00_B8.TIF C:\\Embalses\\ori\\20150511l8oli202_34\\20150511l8oli202_34_r_b8.img\n",
      "B9\n",
      "gdal_translate -of ENVI --config GDAL_CACHEMAX 8000 --config GDAL_NUM_THREADS ALL_CPUS C:\\Embalses\\ori\\20150511l8oli202_34\\LC82020342015131LGN00_B9.TIF C:\\Embalses\\ori\\20150511l8oli202_34\\20150511l8oli202_34_r_b9.img\n",
      "BQA\n",
      "gdal_translate -of ENVI --config GDAL_CACHEMAX 8000 --config GDAL_NUM_THREADS ALL_CPUS C:\\Embalses\\ori\\20150511l8oli202_34\\LC82020342015131LGN00_BQA.TIF C:\\Embalses\\ori\\20150511l8oli202_34\\20150511l8oli202_34_r_bqa.img\n",
      "C:\\Embalses\\ori\\20150511l8oli202_34\\20150511l8oli202_34_r_b1.img\n",
      "C:\\Embalses\\ori\\20150511l8oli202_34\\20150511l8oli202_34_r_b1.img.aux.xml\n",
      "C:\\Embalses\\ori\\20150511l8oli202_34\\20150511l8oli202_34_r_b10.img\n",
      "C:\\Embalses\\ori\\20150511l8oli202_34\\20150511l8oli202_34_r_b10.img.aux.xml\n",
      "C:\\Embalses\\ori\\20150511l8oli202_34\\20150511l8oli202_34_r_b11.img\n",
      "C:\\Embalses\\ori\\20150511l8oli202_34\\20150511l8oli202_34_r_b11.img.aux.xml\n",
      "C:\\Embalses\\ori\\20150511l8oli202_34\\20150511l8oli202_34_r_b2.img\n",
      "C:\\Embalses\\ori\\20150511l8oli202_34\\20150511l8oli202_34_r_b2.img.aux.xml\n",
      "C:\\Embalses\\ori\\20150511l8oli202_34\\20150511l8oli202_34_r_b3.img\n",
      "C:\\Embalses\\ori\\20150511l8oli202_34\\20150511l8oli202_34_r_b3.img.aux.xml\n",
      "C:\\Embalses\\ori\\20150511l8oli202_34\\20150511l8oli202_34_r_b4.img\n",
      "C:\\Embalses\\ori\\20150511l8oli202_34\\20150511l8oli202_34_r_b4.img.aux.xml\n",
      "C:\\Embalses\\ori\\20150511l8oli202_34\\20150511l8oli202_34_r_b5.img\n",
      "C:\\Embalses\\ori\\20150511l8oli202_34\\20150511l8oli202_34_r_b5.img.aux.xml\n",
      "C:\\Embalses\\ori\\20150511l8oli202_34\\20150511l8oli202_34_r_b6.img\n",
      "C:\\Embalses\\ori\\20150511l8oli202_34\\20150511l8oli202_34_r_b6.img.aux.xml\n",
      "C:\\Embalses\\ori\\20150511l8oli202_34\\20150511l8oli202_34_r_b7.img\n",
      "C:\\Embalses\\ori\\20150511l8oli202_34\\20150511l8oli202_34_r_b7.img.aux.xml\n",
      "C:\\Embalses\\ori\\20150511l8oli202_34\\20150511l8oli202_34_r_b8.img\n",
      "C:\\Embalses\\ori\\20150511l8oli202_34\\20150511l8oli202_34_r_b8.img.aux.xml\n",
      "C:\\Embalses\\ori\\20150511l8oli202_34\\20150511l8oli202_34_r_b9.img\n",
      "C:\\Embalses\\ori\\20150511l8oli202_34\\20150511l8oli202_34_r_b9.img.aux.xml\n",
      "C:\\Embalses\\ori\\20150511l8oli202_34\\20150511l8oli202_34_r_bqa.img\n",
      "C:\\Embalses\\ori\\20150511l8oli202_34\\20150511l8oli202_34_r_bqa.img.aux.xml\n",
      "['C:\\\\MiraMon\\\\TIFIMG', '9', 'C:\\\\Embalses\\\\ori\\\\20150511l8oli202_34\\\\LC82020342015131LGN00_B1.TIF', 'C:\\\\Embalses\\\\ori\\\\20150511l8oli202_34\\\\miramon_import', '1', '0', '/MD=C:\\\\Embalses\\\\ori\\\\20150511l8oli202_34\\\\LC82020342015131LGN00_MTL.txt', '/DT=c:\\\\MiraMon']\n",
      "Escena importada con exito en 105.672999859 segundos\n",
      "Creating new index file...\n",
      "\n",
      "marco generado\n",
      "C:\\Embalses\\data\\Spain29c.img\n",
      "Creating output file that is 7571P x 7721L.\n",
      "Processing input file C:\\Embalses\\data\\Spain29c.img.\n",
      "Using internal nodata values (e.g. -9999) for image C:\\Embalses\\data\\Spain29c.img.\n",
      "0...10...20...30...40...50...60...70...80...90...100 - done.\n",
      "\n",
      "dtm_escena generado\n",
      "0...10...20...30...40...50...60...70...80...90...100 - done.\n",
      "\n",
      "Hillshade generado\n",
      "min, max:  0 255\n",
      "C:\\Embalses\\data\\temp\\hillshade.img\n",
      "usando Fmask\n",
      "lista:  [9098, 9114, 9152, 9164, 9173, 9179, 9186, 9190, 9205, 9207]\n",
      "data3:  9098 9332\n",
      "usando Fmask\n",
      "lista:  [8116, 8130, 8163, 8171, 8176, 8186, 8187, 8215, 8220, 8225]\n",
      "data3:  8116 8393\n",
      "usando Fmask\n",
      "lista:  [6871, 6873, 6916, 6943, 6951, 6952, 6961, 6976, 6977, 6981]\n",
      "data3:  6871 7115\n",
      "usando Fmask\n",
      "lista:  [6076, 6112, 6132, 6138, 6151, 6156, 6160, 6162, 6163, 6163]\n",
      "data3:  6076 6180\n",
      "usando Fmask\n",
      "lista:  [5125, 5213, 5296, 5315, 5330, 5357, 5370, 5408, 5409, 5411]\n",
      "data3:  5125 5516\n",
      "usando Fmask\n",
      "lista:  [4763, 4855, 4857, 4883, 4885, 4901, 4905, 4920, 4921, 4928]\n",
      "data3:  4763 5146\n",
      "usando Fmask\n",
      "lista:  [4924, 5001, 5003, 5013, 5017, 5024, 5036, 5043, 5047, 5047]\n",
      "data3:  4924 5093\n",
      "usando Fmask\n",
      "lista:  [4984, 4985, 4985, 4986, 4987, 4988, 4988, 4989, 4989, 4989]\n",
      "data3:  4984 5004\n",
      "Histogramas generados\n",
      "modificados los metadatos del archivo kl.rad\n",
      "Proceso finalizado en 74.1800000668 segundos\n",
      "Nodtm generado\n",
      "modificados los metadatos de  LC8_202034_20150511_BQA-WaterConfidence_00.img\n",
      "modificados los metadatos de  LC8_202034_20150511_BQA-WaterConfidence_00.img\n",
      "modificados los metadatos del bat\n",
      "['C:\\\\MiraMon\\\\CORRAD', '1', 'C:\\\\Embalses\\\\ori\\\\20150511l8oli202_34\\\\miramon_import\\\\LC8_202034_20150511_B1-CA_00.img', 'C:\\\\Embalses\\\\rad\\\\20150511l8oli202_34', 'C:\\\\Embalses\\\\data\\\\temp\\\\Nodtm.img', 'C:\\\\Embalses\\\\rad\\\\kl_l8.rad', '/MULTIBANDA /CONSERVAR_MDT /LIMIT_LAMBERT=73.000000 /REF_SUP_100 /REF_INF_0 /DT=c:\\\\MiraMon']\n",
      "Llamando a Miramon... Miramon!!!!!!\n",
      "Escena corregida con exito en 107.889999866 segundos\n",
      "r_LC8_202034_20150511_B1-CA_00.doc\n",
      "B1\n",
      "r_LC8_202034_20150511_B1-CA_00.img\n",
      "B1\n",
      "r_LC8_202034_20150511_B2-B_00.doc\n",
      "B2\n",
      "r_LC8_202034_20150511_B2-B_00.img\n",
      "B2\n",
      "r_LC8_202034_20150511_B3-G_00.doc\n",
      "B3\n",
      "r_LC8_202034_20150511_B3-G_00.img\n",
      "B3\n",
      "r_LC8_202034_20150511_B4-R_00.doc\n",
      "B4\n",
      "r_LC8_202034_20150511_B4-R_00.img\n",
      "B4\n",
      "r_LC8_202034_20150511_B5-NIR_00.doc\n",
      "B5\n",
      "r_LC8_202034_20150511_B5-NIR_00.img\n",
      "B5\n",
      "r_LC8_202034_20150511_B6-SWIR1_00.doc\n",
      "B6\n",
      "r_LC8_202034_20150511_B6-SWIR1_00.img\n",
      "B6\n",
      "r_LC8_202034_20150511_B7-SWIR2_00.doc\n",
      "B7\n",
      "r_LC8_202034_20150511_B7-SWIR2_00.img\n",
      "B7\n",
      "r_LC8_202034_20150511_B9-CI_00.doc\n",
      "B9\n",
      "r_LC8_202034_20150511_B9-CI_00.img\n",
      "B9\n",
      "C:\\Embalses\\ori\\20150511l8oli202_34\\20150511l8oli202_34_r_b1.hdr movido a rad\n",
      "C:\\Embalses\\ori\\20150511l8oli202_34\\20150511l8oli202_34_r_b10.hdr movido a rad\n",
      "C:\\Embalses\\ori\\20150511l8oli202_34\\20150511l8oli202_34_r_b11.hdr movido a rad\n",
      "C:\\Embalses\\ori\\20150511l8oli202_34\\20150511l8oli202_34_r_b2.hdr movido a rad\n",
      "C:\\Embalses\\ori\\20150511l8oli202_34\\20150511l8oli202_34_r_b3.hdr movido a rad\n",
      "C:\\Embalses\\ori\\20150511l8oli202_34\\20150511l8oli202_34_r_b4.hdr movido a rad\n",
      "C:\\Embalses\\ori\\20150511l8oli202_34\\20150511l8oli202_34_r_b5.hdr movido a rad\n",
      "C:\\Embalses\\ori\\20150511l8oli202_34\\20150511l8oli202_34_r_b6.hdr movido a rad\n",
      "C:\\Embalses\\ori\\20150511l8oli202_34\\20150511l8oli202_34_r_b7.hdr movido a rad\n",
      "C:\\Embalses\\ori\\20150511l8oli202_34\\20150511l8oli202_34_r_b8.hdr movido a rad\n",
      "C:\\Embalses\\ori\\20150511l8oli202_34\\20150511l8oli202_34_r_b9.hdr movido a rad\n",
      "C:\\Embalses\\ori\\20150511l8oli202_34\\20150511l8oli202_34_r_bqa.hdr movido a rad\n",
      "modificados los metadatos de  20150511l8oli202_34_r_b1.hdr\n",
      "modificados los metadatos de  20150511l8oli202_34_r_b10.hdr\n",
      "modificados los metadatos de  20150511l8oli202_34_r_b11.hdr\n",
      "modificados los metadatos de  20150511l8oli202_34_r_b2.hdr\n",
      "modificados los metadatos de  20150511l8oli202_34_r_b3.hdr\n",
      "modificados los metadatos de  20150511l8oli202_34_r_b4.hdr\n",
      "modificados los metadatos de  20150511l8oli202_34_r_b5.hdr\n",
      "modificados los metadatos de  20150511l8oli202_34_r_b6.hdr\n",
      "modificados los metadatos de  20150511l8oli202_34_r_b7.hdr\n",
      "modificados los metadatos de  20150511l8oli202_34_r_b8.hdr\n",
      "modificados los metadatos de  20150511l8oli202_34_r_b9.hdr\n",
      "modificados los metadatos de  20150511l8oli202_34_r_bqa.hdr\n"
     ]
    },
    {
     "name": "stderr",
     "output_type": "stream",
     "text": [
      "C:\\Anaconda\\lib\\site-packages\\rasterio\\__init__.py:103: FutureWarning: GDAL-style transforms are deprecated and will not be supported in Rasterio 1.0.\n",
      "  transform = guard_transform(transform)\n"
     ]
    },
    {
     "name": "stdout",
     "output_type": "stream",
     "text": [
      "b1 1-CA\n",
      "b2 2-B\n",
      "b3 3-G\n",
      "b4 4-R\n",
      "b5 5-NIR\n",
      "b6 6-SWIR1\n",
      "b7 7-SWIR2\n",
      "b9 9-CI\n"
     ]
    }
   ],
   "source": [
    "e.run()"
   ]
  },
  {
   "cell_type": "code",
   "execution_count": null,
   "metadata": {
    "collapsed": true
   },
   "outputs": [],
   "source": []
  }
 ],
 "metadata": {
  "kernelspec": {
   "display_name": "Python 2",
   "language": "python",
   "name": "python2"
  },
  "language_info": {
   "codemirror_mode": {
    "name": "ipython",
    "version": 2
   },
   "file_extension": ".py",
   "mimetype": "text/x-python",
   "name": "python",
   "nbconvert_exporter": "python",
   "pygments_lexer": "ipython2",
   "version": "2.7.11"
  }
 },
 "nbformat": 4,
 "nbformat_minor": 0
}
